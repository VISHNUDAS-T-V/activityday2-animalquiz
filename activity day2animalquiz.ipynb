{
 "cells": [
  {
   "cell_type": "code",
   "execution_count": 25,
   "id": "6ea98e14",
   "metadata": {},
   "outputs": [
    {
     "name": "stdout",
     "output_type": "stream",
     "text": [
      "Guess the Animal!\n",
      "Which animal lives at the north pole? Polarbear\n",
      "Correct answer\n",
      "Which is the fastest land animal? CHEETAH\n",
      "Correct answer\n",
      "Which is the largest animal? giraffe\n",
      "Sorry, wrong answer. Try again. rhinoceros\n",
      "Sorry, wrong answer. Try again. bluewhale\n",
      "The correct answer is Bluewhale\n",
      "Your score is 2\n"
     ]
    }
   ],
   "source": [
    "def animal_quiz():\n",
    "    score = 0\n",
    "    print('Guess the Animal!')\n",
    "    first_question = input('Which animal lives at the north pole? ')\n",
    "    for i in range(0,2):\n",
    "        if first_question.upper() == 'POLARBEAR':\n",
    "            print('Correct answer')\n",
    "            score += 1\n",
    "            break\n",
    "        else:\n",
    "            first_question = input('Sorry, wrong answer. Try again. ')\n",
    "        if i == 1:\n",
    "            print('The correct answer is Polarbear')\n",
    "    second_question = input('Which is the fastest land animal? ')\n",
    "    for i in range(0,2):\n",
    "        if second_question.upper() == 'CHEETAH':\n",
    "            print('Correct answer')\n",
    "            score += 1\n",
    "            break\n",
    "        else:\n",
    "            second_question = input('Sorry, wrong answer. Try again. ')\n",
    "        if i == 1:\n",
    "            print('The correct answer is Cheetah')\n",
    "    third_question = input('Which is the largest animal? ')\n",
    "    for i in range(0,2):\n",
    "        if third_question.upper() == 'BLUEWHALE':\n",
    "            print('Correct answer')\n",
    "            score += 1\n",
    "            break\n",
    "        else:\n",
    "            first_question = input('Sorry, wrong answer. Try again. ')\n",
    "        if i == 1:\n",
    "            print('The correct answer is Bluewhale')\n",
    "    print('Your score is',score)\n",
    "animal_quiz()\n",
    "\n",
    "    "
   ]
  },
  {
   "cell_type": "code",
   "execution_count": null,
   "id": "aba8bebd",
   "metadata": {},
   "outputs": [],
   "source": []
  },
  {
   "cell_type": "code",
   "execution_count": null,
   "id": "32087108",
   "metadata": {},
   "outputs": [],
   "source": []
  },
  {
   "cell_type": "code",
   "execution_count": null,
   "id": "6c424204",
   "metadata": {},
   "outputs": [],
   "source": []
  },
  {
   "cell_type": "code",
   "execution_count": null,
   "id": "b1cc894c",
   "metadata": {},
   "outputs": [],
   "source": []
  },
  {
   "cell_type": "code",
   "execution_count": null,
   "id": "1e6ef4e1",
   "metadata": {},
   "outputs": [],
   "source": []
  }
 ],
 "metadata": {
  "kernelspec": {
   "display_name": "Python 3 (ipykernel)",
   "language": "python",
   "name": "python3"
  },
  "language_info": {
   "codemirror_mode": {
    "name": "ipython",
    "version": 3
   },
   "file_extension": ".py",
   "mimetype": "text/x-python",
   "name": "python",
   "nbconvert_exporter": "python",
   "pygments_lexer": "ipython3",
   "version": "3.8.12"
  }
 },
 "nbformat": 4,
 "nbformat_minor": 5
}
